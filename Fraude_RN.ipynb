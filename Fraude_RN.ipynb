{
 "cells": [
  {
   "cell_type": "code",
   "execution_count": 1,
   "id": "ac37d3da",
   "metadata": {},
   "outputs": [],
   "source": [
    "import pandas as pd\n",
    "import numpy as np\n",
    "import math\n",
    "import random \n",
    "import sklearn\n",
    "import tensorflow\n",
    "from tensorflow.keras.models import Sequential\n",
    "from tensorflow.keras.layers import Dense\n",
    "import seaborn as sns\n",
    "import matplotlib.pyplot as plt\n",
    "from sklearn.metrics import accuracy_score, precision_score, recall_score"
   ]
  },
  {
   "cell_type": "code",
   "execution_count": 2,
   "id": "268d5f76",
   "metadata": {},
   "outputs": [],
   "source": [
    "#IMPORTAR LOS DATASETS DE CONJUNTOS, ENTRENAMIENTO Y PRUEBAS\n",
    "Conjunto1 = pd.read_csv(\"C:/Users/Acer/Documents/DiplomadoAnalitica/Conjunto1.csv\")\n",
    "Conjunto2 = pd.read_csv(\"C:/Users/Acer/Documents/DiplomadoAnalitica/Conjunto2.csv\")\n",
    "Conjunto3 = pd.read_csv(\"C:/Users/Acer/Documents/DiplomadoAnalitica/Conjunto3.csv\")\n",
    "Conjunto4 = pd.read_csv(\"C:/Users/Acer/Documents/DiplomadoAnalitica/Conjunto4.csv\")\n",
    "Conjunto5 = pd.read_csv(\"C:/Users/Acer/Documents/DiplomadoAnalitica/Conjunto5.csv\")\n",
    "\n",
    "dentrenamiento1 = pd.read_csv(\"C:/Users/Acer/Documents/DiplomadoAnalitica/dentrenamientoC1.csv\")\n",
    "dentrenamiento2 = pd.read_csv(\"C:/Users/Acer/Documents/DiplomadoAnalitica/dentrenamientoC2.csv\")\n",
    "dentrenamiento3 = pd.read_csv(\"C:/Users/Acer/Documents/DiplomadoAnalitica/dentrenamientoC3.csv\")\n",
    "dentrenamiento4 = pd.read_csv(\"C:/Users/Acer/Documents/DiplomadoAnalitica/dentrenamientoC4.csv\")\n",
    "dentrenamiento5 = pd.read_csv(\"C:/Users/Acer/Documents/DiplomadoAnalitica/dentrenamientoC5.csv\")\n",
    "\n",
    "dprueba1 = pd.read_csv(\"C:/Users/Acer/Documents/DiplomadoAnalitica/dpruebaC1.csv\")\n",
    "dprueba2 = pd.read_csv(\"C:/Users/Acer/Documents/DiplomadoAnalitica/dpruebaC2.csv\")\n",
    "dprueba3 = pd.read_csv(\"C:/Users/Acer/Documents/DiplomadoAnalitica/dpruebaC3.csv\")\n",
    "dprueba4 = pd.read_csv(\"C:/Users/Acer/Documents/DiplomadoAnalitica/dpruebaC4.csv\")\n",
    "dprueba5 = pd.read_csv(\"C:/Users/Acer/Documents/DiplomadoAnalitica/dpruebaC5.csv\")"
   ]
  },
  {
   "cell_type": "code",
   "execution_count": 3,
   "id": "ff3a94e7",
   "metadata": {},
   "outputs": [],
   "source": [
    "#LISTA DE CONJUNTOS DE ENTRENAMIENTO\n",
    "conjuntos_entrenamiento = [dentrenamiento1, dentrenamiento2, dentrenamiento3, dentrenamiento4, dentrenamiento5]"
   ]
  },
  {
   "cell_type": "markdown",
   "id": "a022ddf4",
   "metadata": {},
   "source": [
    "# conjunto 1"
   ]
  },
  {
   "cell_type": "code",
   "execution_count": 4,
   "id": "b89b0b36",
   "metadata": {},
   "outputs": [],
   "source": [
    "# Obtén los conjuntos de entrenamiento y prueba\n",
    "X_entrenamiento = dentrenamiento1.drop('isFraud', axis=1).values #SEPARAR VARIABLES DE LA VARIABLE ISFRAUDE\n",
    "y_entrenamiento = np.where(dentrenamiento1['isFraud'] == 'FRAUDE', 1, 0) #BINARIZAR IS FRAUDE\n",
    "\n",
    "X_prueba = dprueba1.drop('isFraud', axis=1).values\n",
    "y_prueba = np.where(dprueba1['isFraud'] == 'FRAUDE', 1, 0)\n",
    "\n",
    "numero_de_caracteristicas = X_entrenamiento.shape[1] #GUARDA LA CANTIDAD DE VARIABLES QUE NO SON CLASE"
   ]
  },
  {
   "cell_type": "code",
   "execution_count": 5,
   "id": "ce3ca6de",
   "metadata": {},
   "outputs": [],
   "source": [
    "# Crear el modelo\n",
    "modelo = Sequential()\n",
    "modelo.add(Dense(128, input_dim=numero_de_caracteristicas, activation='relu'))\n",
    "modelo.add(Dense(128, activation='relu'))\n",
    "modelo.add(Dense(128, activation='relu'))\n",
    "modelo.add(Dense(128, activation='relu'))\n",
    "modelo.add(Dense(128, activation='relu'))\n",
    "modelo.add(Dense(1, activation='linear'))"
   ]
  },
  {
   "cell_type": "code",
   "execution_count": 6,
   "id": "c7145991",
   "metadata": {},
   "outputs": [],
   "source": [
    "# Compilar el modelo\n",
    "modelo.compile(loss='mean_squared_error', optimizer='adam')"
   ]
  },
  {
   "cell_type": "code",
   "execution_count": 7,
   "id": "4e2ae8e0",
   "metadata": {},
   "outputs": [
    {
     "name": "stdout",
     "output_type": "stream",
     "text": [
      "Epoch 1/10\n",
      "359/359 [==============================] - 2s 4ms/step - loss: 0.6291\n",
      "Epoch 2/10\n",
      "359/359 [==============================] - 2s 4ms/step - loss: 0.1779\n",
      "Epoch 3/10\n",
      "359/359 [==============================] - 2s 6ms/step - loss: 0.1248\n",
      "Epoch 4/10\n",
      "359/359 [==============================] - 1s 4ms/step - loss: 0.1270\n",
      "Epoch 5/10\n",
      "359/359 [==============================] - 2s 5ms/step - loss: 0.1184\n",
      "Epoch 6/10\n",
      "359/359 [==============================] - 2s 6ms/step - loss: 0.1081\n",
      "Epoch 7/10\n",
      "359/359 [==============================] - 2s 4ms/step - loss: 0.1080\n",
      "Epoch 8/10\n",
      "359/359 [==============================] - 1s 3ms/step - loss: 0.1070\n",
      "Epoch 9/10\n",
      "359/359 [==============================] - 2s 5ms/step - loss: 0.1094\n",
      "Epoch 10/10\n",
      "359/359 [==============================] - 1s 4ms/step - loss: 0.1046\n"
     ]
    },
    {
     "data": {
      "text/plain": [
       "<keras.callbacks.History at 0x229dff75cf0>"
      ]
     },
     "execution_count": 7,
     "metadata": {},
     "output_type": "execute_result"
    }
   ],
   "source": [
    "# Entrenar el modelo\n",
    "modelo.fit(X_entrenamiento, y_entrenamiento, epochs=10, batch_size=32)"
   ]
  },
  {
   "cell_type": "code",
   "execution_count": 8,
   "id": "fe89f236",
   "metadata": {},
   "outputs": [
    {
     "name": "stdout",
     "output_type": "stream",
     "text": [
      "154/154 [==============================] - 1s 3ms/step - loss: 0.1021\n",
      "Pérdida en los datos de prueba: 0.1020905077457428\n"
     ]
    }
   ],
   "source": [
    "# Evaluar el modelo en los datos de prueba\n",
    "puntuacion = modelo.evaluate(X_prueba, y_prueba)\n",
    "print(\"Pérdida en los datos de prueba:\", puntuacion)"
   ]
  },
  {
   "cell_type": "code",
   "execution_count": 9,
   "id": "7de1fc63",
   "metadata": {},
   "outputs": [
    {
     "name": "stdout",
     "output_type": "stream",
     "text": [
      "154/154 [==============================] - 1s 3ms/step\n"
     ]
    }
   ],
   "source": [
    "# Obtener las predicciones del modelo en los datos de prueba\n",
    "predicciones = modelo.predict(X_prueba)"
   ]
  },
  {
   "cell_type": "code",
   "execution_count": 10,
   "id": "a647dfcf",
   "metadata": {},
   "outputs": [],
   "source": [
    "# Convertir las predicciones a etiquetas binarias (FRAUDE o no FRAUDE)\n",
    "etiquetas_predichas = np.where(predicciones > 0.5, 1, 0)"
   ]
  },
  {
   "cell_type": "code",
   "execution_count": 11,
   "id": "64c13742",
   "metadata": {},
   "outputs": [
    {
     "name": "stdout",
     "output_type": "stream",
     "text": [
      "Exactitud en los datos de prueba: 0.49977881769652\n"
     ]
    }
   ],
   "source": [
    "# Comparar las etiquetas predichas con las verdaderas etiquetas\n",
    "exactitud = np.mean(etiquetas_predichas == y_prueba)\n",
    "print(\"Exactitud en los datos de prueba:\", exactitud)"
   ]
  },
  {
   "cell_type": "code",
   "execution_count": 12,
   "id": "533ba766",
   "metadata": {},
   "outputs": [
    {
     "name": "stdout",
     "output_type": "stream",
     "text": [
      "Matriz de confusión:\n",
      "[[1928  538]\n",
      " [ 174 2277]]\n"
     ]
    }
   ],
   "source": [
    "from sklearn.metrics import confusion_matrix\n",
    "\n",
    "# Obtener la matriz de confusión\n",
    "matriz_confusion = confusion_matrix(y_prueba, etiquetas_predichas)\n",
    "print(\"Matriz de confusión:\")\n",
    "print(matriz_confusion)"
   ]
  },
  {
   "cell_type": "code",
   "execution_count": 13,
   "id": "56ecedaf",
   "metadata": {},
   "outputs": [
    {
     "data": {
      "image/png": "[encoded data removed]",
      "text/plain": [
       "<Figure size 640x480 with 2 Axes>"
      ]
     },
     "metadata": {},
     "output_type": "display_data"
    }
   ],
   "source": [
    "# Obtener la matriz de confusión\n",
    "matriz_confusion = confusion_matrix(y_prueba, etiquetas_predichas)\n",
    "\n",
    "# Crear el mapa de calor\n",
    "sns.heatmap(matriz_confusion, annot=True, cmap='Blues', fmt='d')\n",
    "\n",
    "# Configurar etiquetas de los ejes\n",
    "clases = ['no FRAUDE', 'FRAUDE']\n",
    "plt.xlabel('Etiquetas Predichas')\n",
    "plt.ylabel('Etiquetas Verdaderas')\n",
    "plt.title('Matriz de Confusión')\n",
    "plt.xticks(ticks=[0.5, 1.5], labels=clases)\n",
    "plt.yticks(ticks=[0.5, 1.5], labels=clases)\n",
    "\n",
    "# Mostrar el mapa de calor\n",
    "plt.show()"
   ]
  },
  {
   "cell_type": "code",
   "execution_count": 14,
   "id": "d3f83a97",
   "metadata": {
    "scrolled": true
   },
   "outputs": [
    {
     "name": "stdout",
     "output_type": "stream",
     "text": [
      "Exactitud: 0.8551962578808217\n",
      "Precisión: 0.8088809946714032\n",
      "Sensibilidad: 0.9290085679314566\n"
     ]
    }
   ],
   "source": [
    "# Calcular la exactitud\n",
    "exactitud = accuracy_score(y_prueba, etiquetas_predichas)\n",
    "print(\"Exactitud:\", exactitud)\n",
    "\n",
    "# Calcular la precisión\n",
    "precision = precision_score(y_prueba, etiquetas_predichas)\n",
    "print(\"Precisión:\", precision)\n",
    "\n",
    "# Calcular la sensibilidad (recall)\n",
    "sensibilidad = recall_score(y_prueba, etiquetas_predichas)\n",
    "print(\"Sensibilidad:\", sensibilidad)"
   ]
  },
  {
   "cell_type": "markdown",
   "id": "de9bb547",
   "metadata": {},
   "source": [
    "# conjunto 2"
   ]
  },
  {
   "cell_type": "code",
   "execution_count": 15,
   "id": "ae2f3583",
   "metadata": {},
   "outputs": [],
   "source": [
    "# Obtén los conjuntos de entrenamiento y prueba\n",
    "X_entrenamiento_2 = dentrenamiento2.drop('isFraud', axis=1).values #SEPARAR VARIABLES DE LA VARIABLE ISFRAUDE\n",
    "y_entrenamiento_2 = np.where(dentrenamiento2['isFraud'] == 'FRAUDE', 1, 0) #BINARIZAR IS FRAUDE\n",
    "\n",
    "X_prueba_2 = dprueba2.drop('isFraud', axis=1).values\n",
    "y_prueba_2 = np.where(dprueba2['isFraud'] == 'FRAUDE', 1, 0)\n",
    "\n",
    "numero_de_caracteristicas_2 = X_entrenamiento_2.shape[1] #GUARDA LA CANTIDAD DE VARIABLES QUE NO SON CLASE"
   ]
  },
  {
   "cell_type": "code",
   "execution_count": 16,
   "id": "69f0e049",
   "metadata": {},
   "outputs": [],
   "source": [
    "# Crear el modelo\n",
    "modelo_2 = Sequential()\n",
    "modelo_2.add(Dense(128, input_dim=numero_de_caracteristicas_2, activation='relu'))\n",
    "modelo_2.add(Dense(128, activation='relu'))\n",
    "modelo_2.add(Dense(128, activation='relu'))\n",
    "modelo_2.add(Dense(128, activation='relu'))\n",
    "modelo_2.add(Dense(128, activation='relu'))\n",
    "modelo_2.add(Dense(1, activation='linear'))"
   ]
  },
  {
   "cell_type": "code",
   "execution_count": 17,
   "id": "56d46b46",
   "metadata": {},
   "outputs": [],
   "source": [
    "# Compilar el modelo\n",
    "modelo_2.compile(loss='mean_squared_error', optimizer='adam')"
   ]
  },
  {
   "cell_type": "code",
   "execution_count": 18,
   "id": "13624ff0",
   "metadata": {},
   "outputs": [
    {
     "name": "stdout",
     "output_type": "stream",
     "text": [
      "Epoch 1/10\n",
      "359/359 [==============================] - 2s 3ms/step - loss: 4.2170\n",
      "Epoch 2/10\n",
      "359/359 [==============================] - 1s 3ms/step - loss: 0.1466\n",
      "Epoch 3/10\n",
      "359/359 [==============================] - 2s 5ms/step - loss: 0.1270\n",
      "Epoch 4/10\n",
      "359/359 [==============================] - 1s 3ms/step - loss: 0.1299\n",
      "Epoch 5/10\n",
      "359/359 [==============================] - 1s 3ms/step - loss: 0.1432\n",
      "Epoch 6/10\n",
      "359/359 [==============================] - 2s 4ms/step - loss: 0.1271\n",
      "Epoch 7/10\n",
      "359/359 [==============================] - 1s 3ms/step - loss: 0.1096\n",
      "Epoch 8/10\n",
      "359/359 [==============================] - 1s 3ms/step - loss: 0.1105\n",
      "Epoch 9/10\n",
      "359/359 [==============================] - 3s 7ms/step - loss: 0.1140\n",
      "Epoch 10/10\n",
      "359/359 [==============================] - 1s 4ms/step - loss: 0.1103\n"
     ]
    },
    {
     "data": {
      "text/plain": [
       "<keras.callbacks.History at 0x229e44d7940>"
      ]
     },
     "execution_count": 18,
     "metadata": {},
     "output_type": "execute_result"
    }
   ],
   "source": [
    "# Entrenar el modelo\n",
    "modelo_2.fit(X_entrenamiento_2, y_entrenamiento_2, epochs=10, batch_size=32)"
   ]
  },
  {
   "cell_type": "code",
   "execution_count": 19,
   "id": "7e104ee7",
   "metadata": {},
   "outputs": [
    {
     "name": "stdout",
     "output_type": "stream",
     "text": [
      "154/154 [==============================] - 1s 2ms/step - loss: 0.0993\n",
      "Pérdida en los datos de prueba: 0.09933755546808243\n"
     ]
    }
   ],
   "source": [
    "# Evaluar el modelo en los datos de prueba\n",
    "puntuacion_2 = modelo_2.evaluate(X_prueba_2, y_prueba_2)\n",
    "print(\"Pérdida en los datos de prueba:\", puntuacion_2)"
   ]
  },
  {
   "cell_type": "code",
   "execution_count": 20,
   "id": "187e3140",
   "metadata": {},
   "outputs": [
    {
     "name": "stdout",
     "output_type": "stream",
     "text": [
      "154/154 [==============================] - 1s 3ms/step\n"
     ]
    }
   ],
   "source": [
    "# Obtener las predicciones del modelo en los datos de prueba\n",
    "predicciones_2 = modelo_2.predict(X_prueba_2)"
   ]
  },
  {
   "cell_type": "code",
   "execution_count": 21,
   "id": "8ad78b95",
   "metadata": {},
   "outputs": [
    {
     "name": "stdout",
     "output_type": "stream",
     "text": [
      "Exactitud en los datos de prueba: 0.49934944069933895\n"
     ]
    }
   ],
   "source": [
    "# Convertir las predicciones a etiquetas binarias (FRAUDE o no FRAUDE)\n",
    "etiquetas_predichas_2 = np.where(predicciones_2 > 0.5, 1, 0)\n",
    "\n",
    "# Comparar las etiquetas predichas con las verdaderas etiquetas\n",
    "exactitud_2 = np.mean(etiquetas_predichas_2 == y_prueba_2)\n",
    "print(\"Exactitud en los datos de prueba:\", exactitud_2)"
   ]
  },
  {
   "cell_type": "code",
   "execution_count": 22,
   "id": "77e3f34d",
   "metadata": {},
   "outputs": [
    {
     "name": "stdout",
     "output_type": "stream",
     "text": [
      "Matriz de confusión:\n",
      "[[2038  462]\n",
      " [ 231 2186]]\n"
     ]
    }
   ],
   "source": [
    "# Obtener la matriz de confusión\n",
    "matriz_confusion_2 = confusion_matrix(y_prueba_2, etiquetas_predichas_2)\n",
    "print(\"Matriz de confusión:\")\n",
    "print(matriz_confusion_2)"
   ]
  },
  {
   "cell_type": "code",
   "execution_count": 23,
   "id": "2555d28b",
   "metadata": {},
   "outputs": [
    {
     "data": {
      "image/png": "[encoded data removed]",
      "text/plain": [
       "<Figure size 640x480 with 2 Axes>"
      ]
     },
     "metadata": {},
     "output_type": "display_data"
    }
   ],
   "source": [
    "# Obtener la matriz de confusión\n",
    "matriz_confusion_2 = confusion_matrix(y_prueba_2, etiquetas_predichas_2)\n",
    "\n",
    "# Crear el mapa de calor\n",
    "sns.heatmap(matriz_confusion_2, annot=True, cmap='Blues', fmt='d')\n",
    "\n",
    "# Configurar etiquetas de los ejes\n",
    "clases_2 = ['no FRAUDE', 'FRAUDE']\n",
    "plt.xlabel('Etiquetas Predichas')\n",
    "plt.ylabel('Etiquetas Verdaderas')\n",
    "plt.title('Matriz de Confusión')\n",
    "plt.xticks(ticks=[0.5, 1.5], labels=clases_2)\n",
    "plt.yticks(ticks=[0.5, 1.5], labels=clases_2)\n",
    "\n",
    "# Mostrar el mapa de calor\n",
    "plt.show()"
   ]
  },
  {
   "cell_type": "code",
   "execution_count": 24,
   "id": "2b5dd486",
   "metadata": {},
   "outputs": [
    {
     "name": "stdout",
     "output_type": "stream",
     "text": [
      "Exactitud: 0.8590604026845637\n",
      "Precisión: 0.8255287009063444\n",
      "Sensibilidad: 0.9044269755895739\n"
     ]
    }
   ],
   "source": [
    "# Calcular la exactitud\n",
    "exactitud_2 = accuracy_score(y_prueba_2, etiquetas_predichas_2)\n",
    "print(\"Exactitud:\", exactitud_2)\n",
    "\n",
    "# Calcular la precisión\n",
    "precision_2 = precision_score(y_prueba_2, etiquetas_predichas_2)\n",
    "print(\"Precisión:\", precision_2)\n",
    "\n",
    "# Calcular la sensibilidad (recall)\n",
    "sensibilidad_2 = recall_score(y_prueba_2, etiquetas_predichas_2)\n",
    "print(\"Sensibilidad:\", sensibilidad_2)"
   ]
  },
  {
   "cell_type": "markdown",
   "id": "dfa5115f",
   "metadata": {},
   "source": [
    "# Conjunto 3"
   ]
  },
  {
   "cell_type": "code",
   "execution_count": 25,
   "id": "7528c1f7",
   "metadata": {},
   "outputs": [],
   "source": [
    "# Obtén los conjuntos de entrenamiento y prueba\n",
    "X_entrenamiento_3 = dentrenamiento3.drop('isFraud', axis=1).values #SEPARAR VARIABLES DE LA VARIABLE ISFRAUDE\n",
    "y_entrenamiento_3 = np.where(dentrenamiento3['isFraud'] == 'FRAUDE', 1, 0) #BINARIZAR IS FRAUDE\n",
    "\n",
    "X_prueba_3 = dprueba3.drop('isFraud', axis=1).values\n",
    "y_prueba_3 = np.where(dprueba3['isFraud'] == 'FRAUDE', 1, 0)\n",
    "\n",
    "numero_de_caracteristicas_3 = X_entrenamiento_3.shape[1] #GUARDA LA CANTIDAD DE VARIABLES QUE NO SON CLASE"
   ]
  },
  {
   "cell_type": "code",
   "execution_count": 26,
   "id": "306b5cf1",
   "metadata": {},
   "outputs": [],
   "source": [
    "# Crear el modelo\n",
    "modelo_3 = Sequential()\n",
    "modelo_3.add(Dense(128, input_dim=numero_de_caracteristicas_3, activation='relu'))\n",
    "modelo_3.add(Dense(128, activation='relu'))\n",
    "modelo_3.add(Dense(128, activation='relu'))\n",
    "modelo_3.add(Dense(128, activation='relu'))\n",
    "modelo_3.add(Dense(128, activation='relu'))\n",
    "modelo_3.add(Dense(1, activation='linear'))"
   ]
  },
  {
   "cell_type": "code",
   "execution_count": 27,
   "id": "2527ebfe",
   "metadata": {},
   "outputs": [],
   "source": [
    "# Compilar el modelo\n",
    "modelo_3.compile(loss='mean_squared_error', optimizer='adam')"
   ]
  },
  {
   "cell_type": "code",
   "execution_count": 28,
   "id": "00f206df",
   "metadata": {},
   "outputs": [
    {
     "name": "stdout",
     "output_type": "stream",
     "text": [
      "Epoch 1/10\n",
      "359/359 [==============================] - 2s 3ms/step - loss: 1.4221\n",
      "Epoch 2/10\n",
      "359/359 [==============================] - 1s 3ms/step - loss: 0.2226\n",
      "Epoch 3/10\n",
      "359/359 [==============================] - 2s 5ms/step - loss: 0.1546\n",
      "Epoch 4/10\n",
      "359/359 [==============================] - 1s 4ms/step - loss: 0.1379\n",
      "Epoch 5/10\n",
      "359/359 [==============================] - 1s 3ms/step - loss: 0.1442\n",
      "Epoch 6/10\n",
      "359/359 [==============================] - 2s 6ms/step - loss: 0.1285\n",
      "Epoch 7/10\n",
      "359/359 [==============================] - 1s 3ms/step - loss: 0.1308\n",
      "Epoch 8/10\n",
      "359/359 [==============================] - 2s 4ms/step - loss: 0.1140\n",
      "Epoch 9/10\n",
      "359/359 [==============================] - 2s 6ms/step - loss: 0.1204\n",
      "Epoch 10/10\n",
      "359/359 [==============================] - 1s 3ms/step - loss: 0.1160\n"
     ]
    },
    {
     "data": {
      "text/plain": [
       "<keras.callbacks.History at 0x229e583f070>"
      ]
     },
     "execution_count": 28,
     "metadata": {},
     "output_type": "execute_result"
    }
   ],
   "source": [
    "# Entrenar el modelo\n",
    "modelo_3.fit(X_entrenamiento_3, y_entrenamiento_3, epochs=10, batch_size=32)"
   ]
  },
  {
   "cell_type": "code",
   "execution_count": 29,
   "id": "1d01e321",
   "metadata": {},
   "outputs": [
    {
     "name": "stdout",
     "output_type": "stream",
     "text": [
      "154/154 [==============================] - 0s 2ms/step - loss: 0.1044\n",
      "Pérdida en los datos de prueba: 0.10436598211526871\n",
      "154/154 [==============================] - 1s 3ms/step\n"
     ]
    }
   ],
   "source": [
    "# Evaluar el modelo en los datos de prueba\n",
    "puntuacion_3 = modelo_3.evaluate(X_prueba_3, y_prueba_3)\n",
    "print(\"Pérdida en los datos de prueba:\", puntuacion_3)\n",
    "# Obtener las predicciones del modelo en los datos de prueba\n",
    "predicciones_3 = modelo_3.predict(X_prueba_3)"
   ]
  },
  {
   "cell_type": "code",
   "execution_count": 30,
   "id": "286ae212",
   "metadata": {},
   "outputs": [
    {
     "name": "stdout",
     "output_type": "stream",
     "text": [
      "Exactitud en los datos de prueba: 0.500312136933747\n"
     ]
    }
   ],
   "source": [
    "# Convertir las predicciones a etiquetas binarias (FRAUDE o no FRAUDE)\n",
    "etiquetas_predichas_3 = np.where(predicciones_3 > 0.5, 1, 0)\n",
    "\n",
    "# Comparar las etiquetas predichas con las verdaderas etiquetas\n",
    "exactitud_3 = np.mean(etiquetas_predichas_3 == y_prueba_3)\n",
    "print(\"Exactitud en los datos de prueba:\", exactitud_3)"
   ]
  },
  {
   "cell_type": "code",
   "execution_count": 31,
   "id": "13c10164",
   "metadata": {},
   "outputs": [
    {
     "name": "stdout",
     "output_type": "stream",
     "text": [
      "Matriz de confusión:\n",
      "[[2027  410]\n",
      " [ 256 2224]]\n"
     ]
    }
   ],
   "source": [
    "# Obtener la matriz de confusión\n",
    "matriz_confusion_3 = confusion_matrix(y_prueba_3, etiquetas_predichas_3)\n",
    "print(\"Matriz de confusión:\")\n",
    "print(matriz_confusion_3)"
   ]
  },
  {
   "cell_type": "code",
   "execution_count": 32,
   "id": "bb161418",
   "metadata": {},
   "outputs": [
    {
     "data": {
      "image/png": "[encoded data removed]",
      "text/plain": [
       "<Figure size 640x480 with 2 Axes>"
      ]
     },
     "metadata": {},
     "output_type": "display_data"
    }
   ],
   "source": [
    "# Obtener la matriz de confusión\n",
    "matriz_confusion_3 = confusion_matrix(y_prueba_3, etiquetas_predichas_3)\n",
    "\n",
    "# Crear el mapa de calor\n",
    "sns.heatmap(matriz_confusion_3, annot=True, cmap='Blues', fmt='d')\n",
    "\n",
    "# Configurar etiquetas de los ejes\n",
    "clases_3 = ['no FRAUDE', 'FRAUDE']\n",
    "plt.xlabel('Etiquetas Predichas')\n",
    "plt.ylabel('Etiquetas Verdaderas')\n",
    "plt.title('Matriz de Confusión')\n",
    "plt.xticks(ticks=[0.5, 1.5], labels=clases_3)\n",
    "plt.yticks(ticks=[0.5, 1.5], labels=clases_3)\n",
    "\n",
    "# Mostrar el mapa de calor\n",
    "plt.show()"
   ]
  },
  {
   "cell_type": "code",
   "execution_count": 33,
   "id": "0410bf47",
   "metadata": {},
   "outputs": [
    {
     "name": "stdout",
     "output_type": "stream",
     "text": [
      "Exactitud: 0.8645515558267236\n",
      "Precisión: 0.8443432042520881\n",
      "Sensibilidad: 0.896774193548387\n"
     ]
    }
   ],
   "source": [
    "# Calcular la exactitud\n",
    "exactitud_3 = accuracy_score(y_prueba_3, etiquetas_predichas_3)\n",
    "print(\"Exactitud:\", exactitud_3)\n",
    "\n",
    "# Calcular la precisión\n",
    "precision_3 = precision_score(y_prueba_3, etiquetas_predichas_3)\n",
    "print(\"Precisión:\", precision_3)\n",
    "\n",
    "# Calcular la sensibilidad (recall)\n",
    "sensibilidad_3 = recall_score(y_prueba_3, etiquetas_predichas_3)\n",
    "print(\"Sensibilidad:\", sensibilidad_3)"
   ]
  },
  {
   "cell_type": "markdown",
   "id": "9e434447",
   "metadata": {},
   "source": [
    "# Conjunto 4"
   ]
  },
  {
   "cell_type": "code",
   "execution_count": 34,
   "id": "9bd354d4",
   "metadata": {},
   "outputs": [],
   "source": [
    "# Obtén los conjuntos de entrenamiento y prueba\n",
    "X_entrenamiento_4 = dentrenamiento4.drop('isFraud', axis=1).values #SEPARAR VARIABLES DE LA VARIABLE ISFRAUDE\n",
    "y_entrenamiento_4 = np.where(dentrenamiento4['isFraud'] == 'FRAUDE', 1, 0) #BINARIZAR IS FRAUDE\n",
    "\n",
    "X_prueba_4 = dprueba4.drop('isFraud', axis=1).values\n",
    "y_prueba_4 = np.where(dprueba4['isFraud'] == 'FRAUDE', 1, 0)\n",
    "\n",
    "numero_de_caracteristicas_4 = X_entrenamiento_4.shape[1] #GUARDA LA CANTIDAD DE VARIABLES QUE NO SON CLASE"
   ]
  },
  {
   "cell_type": "code",
   "execution_count": 35,
   "id": "22013d17",
   "metadata": {},
   "outputs": [],
   "source": [
    "# Crear el modelo\n",
    "modelo_4 = Sequential()\n",
    "modelo_4.add(Dense(128, input_dim=numero_de_caracteristicas_4, activation='relu'))\n",
    "modelo_4.add(Dense(128, activation='relu'))\n",
    "modelo_4.add(Dense(128, activation='relu'))\n",
    "modelo_4.add(Dense(128, activation='relu'))\n",
    "modelo_4.add(Dense(128, activation='relu'))\n",
    "modelo_4.add(Dense(1, activation='linear'))"
   ]
  },
  {
   "cell_type": "code",
   "execution_count": 36,
   "id": "13bdee62",
   "metadata": {},
   "outputs": [],
   "source": [
    "# Compilar el modelo\n",
    "modelo_4.compile(loss='mean_squared_error', optimizer='adam')"
   ]
  },
  {
   "cell_type": "code",
   "execution_count": 37,
   "id": "11bb4926",
   "metadata": {},
   "outputs": [
    {
     "name": "stdout",
     "output_type": "stream",
     "text": [
      "Epoch 1/10\n",
      "359/359 [==============================] - 2s 3ms/step - loss: 4.4343\n",
      "Epoch 2/10\n",
      "359/359 [==============================] - 1s 4ms/step - loss: 0.1649\n",
      "Epoch 3/10\n",
      "359/359 [==============================] - 2s 4ms/step - loss: 0.1381\n",
      "Epoch 4/10\n",
      "359/359 [==============================] - 1s 3ms/step - loss: 0.1273\n",
      "Epoch 5/10\n",
      "359/359 [==============================] - 1s 4ms/step - loss: 0.1380\n",
      "Epoch 6/10\n",
      "359/359 [==============================] - 2s 5ms/step - loss: 0.1243\n",
      "Epoch 7/10\n",
      "359/359 [==============================] - 1s 3ms/step - loss: 0.1233\n",
      "Epoch 8/10\n",
      "359/359 [==============================] - 2s 6ms/step - loss: 0.1327\n",
      "Epoch 9/10\n",
      "359/359 [==============================] - 1s 4ms/step - loss: 0.1139\n",
      "Epoch 10/10\n",
      "359/359 [==============================] - 1s 3ms/step - loss: 0.1134\n"
     ]
    },
    {
     "data": {
      "text/plain": [
       "<keras.callbacks.History at 0x229e6c9df90>"
      ]
     },
     "execution_count": 37,
     "metadata": {},
     "output_type": "execute_result"
    }
   ],
   "source": [
    "# Entrenar el modelo\n",
    "modelo_4.fit(X_entrenamiento_4, y_entrenamiento_4, epochs=10, batch_size=32)"
   ]
  },
  {
   "cell_type": "code",
   "execution_count": 38,
   "id": "74405660",
   "metadata": {},
   "outputs": [
    {
     "name": "stdout",
     "output_type": "stream",
     "text": [
      "154/154 [==============================] - 1s 4ms/step - loss: 0.0966\n",
      "Pérdida en los datos de prueba: 0.09655079990625381\n",
      "154/154 [==============================] - 1s 4ms/step\n"
     ]
    }
   ],
   "source": [
    "# Evaluar el modelo en los datos de prueba\n",
    "puntuacion_4 = modelo_4.evaluate(X_prueba_4, y_prueba_4)\n",
    "print(\"Pérdida en los datos de prueba:\", puntuacion_4)\n",
    "# Obtener las predicciones del modelo en los datos de prueba\n",
    "predicciones_4 = modelo_4.predict(X_prueba_4)"
   ]
  },
  {
   "cell_type": "code",
   "execution_count": 39,
   "id": "22426fbc",
   "metadata": {},
   "outputs": [
    {
     "name": "stdout",
     "output_type": "stream",
     "text": [
      "Exactitud en los datos de prueba: 0.5029430792357115\n"
     ]
    }
   ],
   "source": [
    "# Convertir las predicciones a etiquetas binarias (FRAUDE o no FRAUDE)\n",
    "etiquetas_predichas_4 = np.where(predicciones_4 > 0.5, 1, 0)\n",
    "\n",
    "# Comparar las etiquetas predichas con las verdaderas etiquetas\n",
    "exactitud_4 = np.mean(etiquetas_predichas_4 == y_prueba_4)\n",
    "print(\"Exactitud en los datos de prueba:\", exactitud_4)"
   ]
  },
  {
   "cell_type": "code",
   "execution_count": 40,
   "id": "d6fcb420",
   "metadata": {},
   "outputs": [
    {
     "name": "stdout",
     "output_type": "stream",
     "text": [
      "Matriz de confusión:\n",
      "[[1696  712]\n",
      " [  58 2451]]\n"
     ]
    }
   ],
   "source": [
    "# Obtener la matriz de confusión\n",
    "matriz_confusion_4 = confusion_matrix(y_prueba_4, etiquetas_predichas_4)\n",
    "print(\"Matriz de confusión:\")\n",
    "print(matriz_confusion_4)"
   ]
  },
  {
   "cell_type": "code",
   "execution_count": 41,
   "id": "7e7edadf",
   "metadata": {},
   "outputs": [
    {
     "data": {
      "image/png": "[encoded data removed]",
      "text/plain": [
       "<Figure size 640x480 with 2 Axes>"
      ]
     },
     "metadata": {},
     "output_type": "display_data"
    }
   ],
   "source": [
    "# Obtener la matriz de confusión\n",
    "matriz_confusion_4 = confusion_matrix(y_prueba_4, etiquetas_predichas_4)\n",
    "\n",
    "# Crear el mapa de calor\n",
    "sns.heatmap(matriz_confusion_4, annot=True, cmap='Blues', fmt='d')\n",
    "\n",
    "# Configurar etiquetas de los ejes\n",
    "clases_4 = ['no FRAUDE', 'FRAUDE']\n",
    "plt.xlabel('Etiquetas Predichas')\n",
    "plt.ylabel('Etiquetas Verdaderas')\n",
    "plt.title('Matriz de Confusión')\n",
    "plt.xticks(ticks=[0.5, 1.5], labels=clases_4)\n",
    "plt.yticks(ticks=[0.5, 1.5], labels=clases_4)\n",
    "\n",
    "# Mostrar el mapa de calor\n",
    "plt.show()"
   ]
  },
  {
   "cell_type": "code",
   "execution_count": 42,
   "id": "df60ebf4",
   "metadata": {},
   "outputs": [
    {
     "name": "stdout",
     "output_type": "stream",
     "text": [
      "Exactitud: 0.843400447427293\n",
      "Precisión: 0.7748972494467278\n",
      "Sensibilidad: 0.9768832204065365\n"
     ]
    }
   ],
   "source": [
    "# Calcular la exactitud\n",
    "exactitud_4 = accuracy_score(y_prueba_4, etiquetas_predichas_4)\n",
    "print(\"Exactitud:\", exactitud_4)\n",
    "\n",
    "# Calcular la precisión\n",
    "precision_4 = precision_score(y_prueba_4, etiquetas_predichas_4)\n",
    "print(\"Precisión:\", precision_4)\n",
    "\n",
    "# Calcular la sensibilidad (recall)\n",
    "sensibilidad_4 = recall_score(y_prueba_4, etiquetas_predichas_4)\n",
    "print(\"Sensibilidad:\", sensibilidad_4)"
   ]
  },
  {
   "cell_type": "markdown",
   "id": "6ad748c9",
   "metadata": {},
   "source": [
    "# Conjunto 5"
   ]
  },
  {
   "cell_type": "code",
   "execution_count": 43,
   "id": "0b3d6a81",
   "metadata": {},
   "outputs": [],
   "source": [
    "# Obtén los conjuntos de entrenamiento y prueba\n",
    "X_entrenamiento_5 = dentrenamiento5.drop('isFraud', axis=1).values #SEPARAR VARIABLES DE LA VARIABLE ISFRAUDE\n",
    "y_entrenamiento_5 = np.where(dentrenamiento5['isFraud'] == 'FRAUDE', 1, 0) #BINARIZAR IS FRAUDE\n",
    "\n",
    "X_prueba_5 = dprueba5.drop('isFraud', axis=1).values\n",
    "y_prueba_5 = np.where(dprueba5['isFraud'] == 'FRAUDE', 1, 0)\n",
    "\n",
    "numero_de_caracteristicas_5 = X_entrenamiento_5.shape[1] #GUARDA LA CANTIDAD DE VARIABLES QUE NO SON CLASE"
   ]
  },
  {
   "cell_type": "code",
   "execution_count": 44,
   "id": "d1af789d",
   "metadata": {},
   "outputs": [],
   "source": [
    "# Crear el modelo\n",
    "modelo_5 = Sequential()\n",
    "modelo_5.add(Dense(128, input_dim=numero_de_caracteristicas_5, activation='relu'))\n",
    "modelo_5.add(Dense(128, activation='relu'))\n",
    "modelo_5.add(Dense(128, activation='relu'))\n",
    "modelo_5.add(Dense(128, activation='relu'))\n",
    "modelo_5.add(Dense(128, activation='relu'))\n",
    "modelo_5.add(Dense(1, activation='linear'))"
   ]
  },
  {
   "cell_type": "code",
   "execution_count": 45,
   "id": "2c67587c",
   "metadata": {},
   "outputs": [],
   "source": [
    "# Compilar el modelo\n",
    "modelo_5.compile(loss='mean_squared_error', optimizer='adam')"
   ]
  },
  {
   "cell_type": "code",
   "execution_count": 46,
   "id": "45451c8e",
   "metadata": {},
   "outputs": [
    {
     "name": "stdout",
     "output_type": "stream",
     "text": [
      "Epoch 1/10\n",
      "359/359 [==============================] - 2s 3ms/step - loss: 1.3618\n",
      "Epoch 2/10\n",
      "359/359 [==============================] - 1s 4ms/step - loss: 0.2038\n",
      "Epoch 3/10\n",
      "359/359 [==============================] - 2s 5ms/step - loss: 0.1338\n",
      "Epoch 4/10\n",
      "359/359 [==============================] - 1s 3ms/step - loss: 0.1227\n",
      "Epoch 5/10\n",
      "359/359 [==============================] - 1s 3ms/step - loss: 0.1309\n",
      "Epoch 6/10\n",
      "359/359 [==============================] - 2s 4ms/step - loss: 0.1180\n",
      "Epoch 7/10\n",
      "359/359 [==============================] - 2s 6ms/step - loss: 0.1188\n",
      "Epoch 8/10\n",
      "359/359 [==============================] - 2s 5ms/step - loss: 0.1132\n",
      "Epoch 9/10\n",
      "359/359 [==============================] - 2s 5ms/step - loss: 0.1096\n",
      "Epoch 10/10\n",
      "359/359 [==============================] - 2s 5ms/step - loss: 0.1124\n"
     ]
    },
    {
     "data": {
      "text/plain": [
       "<keras.callbacks.History at 0x229e7cd5c90>"
      ]
     },
     "execution_count": 46,
     "metadata": {},
     "output_type": "execute_result"
    }
   ],
   "source": [
    "# Entrenar el modelo\n",
    "modelo_5.fit(X_entrenamiento_5, y_entrenamiento_5, epochs=10, batch_size=32)"
   ]
  },
  {
   "cell_type": "code",
   "execution_count": 47,
   "id": "0bc5790f",
   "metadata": {},
   "outputs": [
    {
     "name": "stdout",
     "output_type": "stream",
     "text": [
      "154/154 [==============================] - 1s 3ms/step - loss: 0.1008\n",
      "Pérdida en los datos de prueba: 0.10077700018882751\n",
      "154/154 [==============================] - 1s 2ms/step\n"
     ]
    }
   ],
   "source": [
    "# Evaluar el modelo en los datos de prueba\n",
    "puntuacion_5 = modelo_5.evaluate(X_prueba_5, y_prueba_5)\n",
    "print(\"Pérdida en los datos de prueba:\", puntuacion_5)\n",
    "# Obtener las predicciones del modelo en los datos de prueba\n",
    "predicciones_5 = modelo_5.predict(X_prueba_5)"
   ]
  },
  {
   "cell_type": "code",
   "execution_count": 48,
   "id": "7ae565e1",
   "metadata": {},
   "outputs": [
    {
     "name": "stdout",
     "output_type": "stream",
     "text": [
      "Exactitud en los datos de prueba: 0.4999739627377203\n"
     ]
    }
   ],
   "source": [
    "# Convertir las predicciones a etiquetas binarias (FRAUDE o no FRAUDE)\n",
    "etiquetas_predichas_5 = np.where(predicciones_5 > 0.5, 1, 0)\n",
    "\n",
    "# Comparar las etiquetas predichas con las verdaderas etiquetas\n",
    "exactitud_5 = np.mean(etiquetas_predichas_5 == y_prueba_5)\n",
    "print(\"Exactitud en los datos de prueba:\", exactitud_5)"
   ]
  },
  {
   "cell_type": "code",
   "execution_count": 49,
   "id": "7451832a",
   "metadata": {},
   "outputs": [
    {
     "name": "stdout",
     "output_type": "stream",
     "text": [
      "Matriz de confusión:\n",
      "[[1770  689]\n",
      " [  59 2399]]\n"
     ]
    }
   ],
   "source": [
    "# Obtener la matriz de confusión\n",
    "matriz_confusion_5 = confusion_matrix(y_prueba_5, etiquetas_predichas_5)\n",
    "print(\"Matriz de confusión:\")\n",
    "print(matriz_confusion_5)"
   ]
  },
  {
   "cell_type": "code",
   "execution_count": 50,
   "id": "ae11379a",
   "metadata": {},
   "outputs": [
    {
     "data": {
      "image/png": "[encoded data removed]",
      "text/plain": [
       "<Figure size 640x480 with 2 Axes>"
      ]
     },
     "metadata": {},
     "output_type": "display_data"
    }
   ],
   "source": [
    "# Obtener la matriz de confusión\n",
    "matriz_confusion_5 = confusion_matrix(y_prueba_5, etiquetas_predichas_5)\n",
    "\n",
    "# Crear el mapa de calor\n",
    "sns.heatmap(matriz_confusion_5, annot=True, cmap='Blues', fmt='d')\n",
    "\n",
    "# Configurar etiquetas de los ejes\n",
    "clases_5 = ['no FRAUDE', 'FRAUDE']\n",
    "plt.xlabel('Etiquetas Predichas')\n",
    "plt.ylabel('Etiquetas Verdaderas')\n",
    "plt.title('Matriz de Confusión')\n",
    "plt.xticks(ticks=[0.5, 1.5], labels=clases_5)\n",
    "plt.yticks(ticks=[0.5, 1.5], labels=clases_5)\n",
    "\n",
    "# Mostrar el mapa de calor\n",
    "plt.show()"
   ]
  },
  {
   "cell_type": "code",
   "execution_count": 51,
   "id": "e236af7d",
   "metadata": {},
   "outputs": [
    {
     "name": "stdout",
     "output_type": "stream",
     "text": [
      "Exactitud: 0.8478747203579419\n",
      "Precisión: 0.7768782383419689\n",
      "Sensibilidad: 0.9759967453213995\n"
     ]
    }
   ],
   "source": [
    "# Calcular la exactitud\n",
    "exactitud_5 = accuracy_score(y_prueba_5, etiquetas_predichas_5)\n",
    "print(\"Exactitud:\", exactitud_5)\n",
    "\n",
    "# Calcular la precisión\n",
    "precision_5 = precision_score(y_prueba_5, etiquetas_predichas_5)\n",
    "print(\"Precisión:\", precision_5)\n",
    "\n",
    "# Calcular la sensibilidad (recall)\n",
    "sensibilidad_5 = recall_score(y_prueba_5, etiquetas_predichas_5)\n",
    "print(\"Sensibilidad:\", sensibilidad_5)"
   ]
  },
  {
   "cell_type": "code",
   "execution_count": null,
   "id": "5a785b7e",
   "metadata": {},
   "outputs": [],
   "source": []
  }
 ],
 "metadata": {
  "kernelspec": {
   "display_name": "Python 3 (ipykernel)",
   "language": "python",
   "name": "python3"
  },
  "language_info": {
   "codemirror_mode": {
    "name": "ipython",
    "version": 3
   },
   "file_extension": ".py",
   "mimetype": "text/x-python",
   "name": "python",
   "nbconvert_exporter": "python",
   "pygments_lexer": "ipython3",
   "version": "3.10.9"
  }
 },
 "nbformat": 4,
 "nbformat_minor": 5
}
